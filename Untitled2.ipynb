{
 "cells": [
  {
   "cell_type": "code",
   "execution_count": 47,
   "id": "420aa339-b8e7-4bec-9677-4d83b13bfd33",
   "metadata": {},
   "outputs": [
    {
     "name": "stderr",
     "output_type": "stream",
     "text": [
      "/tmp/ipykernel_21550/885653851.py:16: DtypeWarning: Columns (5,6,21,22,34,38,39,49,55,56,57,58,59) have mixed types. Specify dtype option on import or set low_memory=False.\n",
      "  metadata = pd.read_csv(metadata_path, index_col=0)\n",
      "\n",
      "  0%|                                                 | 0/13129 [00:00<?, ?it/s]\u001b[A\n",
      "  0%|                                         | 1/13129 [00:00<54:43,  4.00it/s]\u001b[A\n",
      "  1%|▏                                      | 80/13129 [00:00<00:45, 289.25it/s]\u001b[A\n",
      "  2%|▊                                     | 268/13129 [00:00<00:15, 832.20it/s]\u001b[A\n",
      "  3%|█▏                                   | 413/13129 [00:00<00:12, 1032.73it/s]\u001b[A\n",
      "  4%|█▌                                   | 562/13129 [00:00<00:10, 1177.48it/s]\u001b[A\n",
      "  5%|██                                   | 720/13129 [00:00<00:09, 1275.85it/s]\u001b[A\n",
      "  7%|██▍                                  | 859/13129 [00:00<00:10, 1201.22it/s]\u001b[A\n",
      "  8%|██▊                                 | 1020/13129 [00:00<00:09, 1316.28it/s]\u001b[A\n",
      "  9%|███▎                                | 1198/13129 [00:01<00:08, 1450.18it/s]\u001b[A\n",
      " 11%|███▊                                | 1379/13129 [00:01<00:07, 1553.50it/s]\u001b[A\n",
      " 12%|████▎                               | 1554/13129 [00:01<00:07, 1609.45it/s]\u001b[A\n",
      " 13%|████▋                               | 1727/13129 [00:01<00:06, 1644.14it/s]\u001b[A\n",
      " 15%|█████▎                              | 1919/13129 [00:01<00:06, 1724.05it/s]\u001b[A\n",
      " 16%|█████▋                              | 2096/13129 [00:01<00:06, 1737.38it/s]\u001b[A\n",
      " 17%|██████▎                             | 2282/13129 [00:01<00:06, 1771.98it/s]\u001b[A\n",
      " 19%|██████▊                             | 2484/13129 [00:01<00:05, 1844.01it/s]\u001b[A\n",
      " 20%|███████▎                            | 2674/13129 [00:01<00:05, 1860.28it/s]\u001b[A\n",
      " 22%|███████▊                            | 2863/13129 [00:01<00:05, 1868.89it/s]\u001b[A\n",
      " 23%|████████▍                           | 3065/13129 [00:02<00:05, 1912.80it/s]\u001b[A\n",
      " 25%|████████▉                           | 3271/13129 [00:02<00:05, 1956.03it/s]\u001b[A\n",
      " 26%|█████████▌                          | 3467/13129 [00:02<00:04, 1933.88it/s]\u001b[A\n",
      " 28%|██████████                          | 3661/13129 [00:02<00:04, 1926.05it/s]\u001b[A\n",
      " 29%|██████████▌                         | 3854/13129 [00:02<00:04, 1907.73it/s]\u001b[A\n",
      " 31%|███████████                         | 4045/13129 [00:02<00:04, 1881.47it/s]\u001b[A\n",
      " 32%|███████████▌                        | 4234/13129 [00:02<00:04, 1858.62it/s]\u001b[A\n",
      " 34%|████████████▏                       | 4425/13129 [00:02<00:04, 1873.22it/s]\u001b[A\n",
      " 35%|████████████▋                       | 4627/13129 [00:02<00:04, 1912.52it/s]\u001b[A\n",
      " 37%|█████████████▏                      | 4819/13129 [00:03<00:04, 1912.25it/s]\u001b[A\n",
      " 38%|█████████████▋                      | 5011/13129 [00:03<00:04, 1811.31it/s]\u001b[A\n",
      " 40%|██████████████▏                     | 5194/13129 [00:03<00:04, 1767.09it/s]\u001b[A\n",
      " 41%|██████████████▋                     | 5372/13129 [00:03<00:04, 1748.43it/s]\u001b[A\n",
      " 42%|███████████████▎                    | 5566/13129 [00:03<00:04, 1801.99it/s]\u001b[A\n",
      " 44%|███████████████▊                    | 5749/13129 [00:03<00:04, 1808.05it/s]\u001b[A\n",
      " 45%|████████████████▎                   | 5931/13129 [00:03<00:04, 1778.75it/s]\u001b[A\n",
      " 47%|████████████████▊                   | 6110/13129 [00:03<00:03, 1770.62it/s]\u001b[A\n",
      " 48%|█████████████████▏                  | 6288/13129 [00:03<00:03, 1753.09it/s]\u001b[A\n",
      " 49%|█████████████████▋                  | 6464/13129 [00:03<00:03, 1729.15it/s]\u001b[A\n",
      " 51%|██████████████████▏                 | 6642/13129 [00:04<00:03, 1743.05it/s]\u001b[A\n",
      " 52%|██████████████████▋                 | 6827/13129 [00:04<00:03, 1773.06it/s]\u001b[A\n",
      " 53%|███████████████████▏                | 7012/13129 [00:04<00:03, 1795.30it/s]\u001b[A\n",
      " 55%|███████████████████▊                | 7207/13129 [00:04<00:03, 1839.72it/s]\u001b[A\n",
      " 56%|████████████████████▎               | 7392/13129 [00:04<00:03, 1753.38it/s]\u001b[A\n",
      " 58%|████████████████████▊               | 7569/13129 [00:04<00:03, 1753.17it/s]\u001b[A\n",
      " 59%|█████████████████████▎              | 7776/13129 [00:04<00:02, 1843.84it/s]\u001b[A\n",
      " 61%|█████████████████████▉              | 7991/13129 [00:04<00:02, 1932.37it/s]\u001b[A\n",
      " 62%|██████████████████████▍             | 8185/13129 [00:04<00:02, 1910.11it/s]\u001b[A\n",
      " 64%|██████████████████████▉             | 8377/13129 [00:04<00:02, 1880.97it/s]\u001b[A\n",
      " 65%|███████████████████████▍            | 8568/13129 [00:05<00:02, 1889.12it/s]\u001b[A\n",
      " 67%|████████████████████████            | 8758/13129 [00:05<00:02, 1818.40it/s]\u001b[A\n",
      " 68%|████████████████████████▌           | 8941/13129 [00:05<00:02, 1819.37it/s]\u001b[A\n",
      " 70%|█████████████████████████           | 9132/13129 [00:05<00:02, 1844.17it/s]\u001b[A\n",
      " 71%|█████████████████████████▌          | 9320/13129 [00:05<00:02, 1853.26it/s]\u001b[A\n",
      " 72%|██████████████████████████          | 9506/13129 [00:05<00:02, 1804.00it/s]\u001b[A\n",
      " 74%|██████████████████████████▌         | 9691/13129 [00:05<00:01, 1815.73it/s]\u001b[A\n",
      " 75%|███████████████████████████         | 9873/13129 [00:05<00:01, 1797.76it/s]\u001b[A\n",
      " 77%|██████████████████████████▊        | 10069/13129 [00:05<00:01, 1844.66it/s]\u001b[A\n",
      " 78%|███████████████████████████▎       | 10265/13129 [00:06<00:01, 1878.35it/s]\u001b[A\n",
      " 80%|███████████████████████████▊       | 10454/13129 [00:06<00:01, 1868.26it/s]\u001b[A\n",
      " 81%|████████████████████████████▍      | 10648/13129 [00:06<00:01, 1887.08it/s]\u001b[A\n",
      " 83%|████████████████████████████▉      | 10843/13129 [00:06<00:01, 1904.14it/s]\u001b[A\n",
      " 84%|█████████████████████████████▍     | 11034/13129 [00:06<00:01, 1879.86it/s]\u001b[A\n",
      " 86%|█████████████████████████████▉     | 11239/13129 [00:06<00:00, 1929.58it/s]\u001b[A\n",
      " 87%|██████████████████████████████▍    | 11433/13129 [00:06<00:00, 1916.67it/s]\u001b[A\n",
      " 89%|██████████████████████████████▉    | 11625/13129 [00:06<00:00, 1896.29it/s]\u001b[A\n",
      " 90%|███████████████████████████████▌   | 11822/13129 [00:06<00:00, 1916.14it/s]\u001b[A\n",
      " 92%|████████████████████████████████   | 12019/13129 [00:06<00:00, 1929.99it/s]\u001b[A\n",
      " 93%|████████████████████████████████▌  | 12213/13129 [00:07<00:00, 1767.48it/s]\u001b[A\n",
      " 94%|█████████████████████████████████  | 12404/13129 [00:07<00:00, 1806.82it/s]\u001b[A\n",
      " 96%|█████████████████████████████████▌ | 12590/13129 [00:07<00:00, 1820.31it/s]\u001b[A\n",
      " 97%|██████████████████████████████████ | 12774/13129 [00:07<00:00, 1821.10it/s]\u001b[A\n",
      "100%|███████████████████████████████████| 13129/13129 [00:07<00:00, 1737.62it/s]\u001b[A\n",
      "\n",
      "Processing audio files:   0%|                           | 0/100 [00:00<?, ?it/s]\u001b[A"
     ]
    },
    {
     "name": "stdout",
     "output_type": "stream",
     "text": [
      "Processing track ID: 136792\n"
     ]
    },
    {
     "name": "stderr",
     "output_type": "stream",
     "text": [
      "\n",
      "Processing audio files:   1%|▏                  | 1/100 [00:00<00:38,  2.57it/s]\u001b[A"
     ]
    },
    {
     "name": "stdout",
     "output_type": "stream",
     "text": [
      "Error processing fma_large/136/136792.mp3: local variable 'track_title' referenced before assignment\n",
      "Processing track ID: 136750\n"
     ]
    },
    {
     "name": "stderr",
     "output_type": "stream",
     "text": [
      "\n",
      "Processing audio files:   2%|▍                  | 2/100 [00:00<00:33,  2.93it/s]\u001b[A"
     ]
    },
    {
     "name": "stdout",
     "output_type": "stream",
     "text": [
      "Error processing fma_large/136/136750.mp3: local variable 'track_title' referenced before assignment\n",
      "Processing track ID: 136413\n"
     ]
    },
    {
     "name": "stderr",
     "output_type": "stream",
     "text": [
      "\n",
      "Processing audio files:   3%|▌                  | 3/100 [00:00<00:30,  3.21it/s]\u001b[A"
     ]
    },
    {
     "name": "stdout",
     "output_type": "stream",
     "text": [
      "Error processing fma_large/136/136413.mp3: local variable 'track_title' referenced before assignment\n",
      "Processing track ID: 136963\n"
     ]
    },
    {
     "name": "stderr",
     "output_type": "stream",
     "text": [
      "\n",
      "Processing audio files:   4%|▊                  | 4/100 [00:01<00:30,  3.17it/s]\u001b[A"
     ]
    },
    {
     "name": "stdout",
     "output_type": "stream",
     "text": [
      "Error processing fma_large/136/136963.mp3: local variable 'track_title' referenced before assignment\n",
      "Processing track ID: 136815\n"
     ]
    },
    {
     "name": "stderr",
     "output_type": "stream",
     "text": [
      "\n",
      "Processing audio files:   5%|▉                  | 5/100 [00:01<00:29,  3.26it/s]\u001b[A"
     ]
    },
    {
     "name": "stdout",
     "output_type": "stream",
     "text": [
      "Error processing fma_large/136/136815.mp3: local variable 'track_title' referenced before assignment\n",
      "Processing track ID: 136631\n"
     ]
    },
    {
     "name": "stderr",
     "output_type": "stream",
     "text": [
      "\n",
      "Processing audio files:   6%|█▏                 | 6/100 [00:01<00:28,  3.25it/s]\u001b[A"
     ]
    },
    {
     "name": "stdout",
     "output_type": "stream",
     "text": [
      "Error processing fma_large/136/136631.mp3: local variable 'track_title' referenced before assignment\n",
      "Processing track ID: 136055\n"
     ]
    },
    {
     "name": "stderr",
     "output_type": "stream",
     "text": [
      "\n",
      "Processing audio files:   7%|█▎                 | 7/100 [00:02<00:30,  3.08it/s]\u001b[A"
     ]
    },
    {
     "name": "stdout",
     "output_type": "stream",
     "text": [
      "Error processing fma_large/136/136055.mp3: local variable 'track_title' referenced before assignment\n",
      "Processing track ID: 136598\n"
     ]
    },
    {
     "name": "stderr",
     "output_type": "stream",
     "text": [
      "\n",
      "Processing audio files:   8%|█▌                 | 8/100 [00:02<00:31,  2.91it/s]\u001b[A"
     ]
    },
    {
     "name": "stdout",
     "output_type": "stream",
     "text": [
      "Error processing fma_large/136/136598.mp3: local variable 'track_title' referenced before assignment\n",
      "Processing track ID: 136414\n"
     ]
    },
    {
     "name": "stderr",
     "output_type": "stream",
     "text": [
      "\n",
      "Processing audio files:   9%|█▋                 | 9/100 [00:02<00:30,  2.94it/s]\u001b[A"
     ]
    },
    {
     "name": "stdout",
     "output_type": "stream",
     "text": [
      "Error processing fma_large/136/136414.mp3: local variable 'track_title' referenced before assignment\n",
      "Processing track ID: 136318\n"
     ]
    },
    {
     "name": "stderr",
     "output_type": "stream",
     "text": [
      "\n",
      "Processing audio files:  10%|█▊                | 10/100 [00:03<00:29,  3.08it/s]\u001b[A"
     ]
    },
    {
     "name": "stdout",
     "output_type": "stream",
     "text": [
      "Error processing fma_large/136/136318.mp3: local variable 'track_title' referenced before assignment\n",
      "Processing track ID: 136048\n"
     ]
    },
    {
     "name": "stderr",
     "output_type": "stream",
     "text": [
      "\n",
      "Processing audio files:  11%|█▉                | 11/100 [00:03<00:27,  3.18it/s]\u001b[A"
     ]
    },
    {
     "name": "stdout",
     "output_type": "stream",
     "text": [
      "Error processing fma_large/136/136048.mp3: local variable 'track_title' referenced before assignment\n",
      "Processing track ID: 136113\n"
     ]
    },
    {
     "name": "stderr",
     "output_type": "stream",
     "text": [
      "\n",
      "Processing audio files:  12%|██▏               | 12/100 [00:04<00:32,  2.68it/s]\u001b[A"
     ]
    },
    {
     "name": "stdout",
     "output_type": "stream",
     "text": [
      "Error processing fma_large/136/136113.mp3: local variable 'track_title' referenced before assignment\n",
      "Processing track ID: 136101\n"
     ]
    },
    {
     "name": "stderr",
     "output_type": "stream",
     "text": [
      "\n",
      "Processing audio files:  13%|██▎               | 13/100 [00:04<00:31,  2.74it/s]\u001b[A"
     ]
    },
    {
     "name": "stdout",
     "output_type": "stream",
     "text": [
      "Error processing fma_large/136/136101.mp3: local variable 'track_title' referenced before assignment\n",
      "Processing track ID: 136110\n"
     ]
    },
    {
     "name": "stderr",
     "output_type": "stream",
     "text": [
      "\n",
      "Processing audio files:  14%|██▌               | 14/100 [00:04<00:29,  2.89it/s]\u001b[A"
     ]
    },
    {
     "name": "stdout",
     "output_type": "stream",
     "text": [
      "Error processing fma_large/136/136110.mp3: local variable 'track_title' referenced before assignment\n",
      "Processing track ID: 136800\n"
     ]
    },
    {
     "name": "stderr",
     "output_type": "stream",
     "text": [
      "\n",
      "Processing audio files:  15%|██▋               | 15/100 [00:05<00:30,  2.76it/s]\u001b[A"
     ]
    },
    {
     "name": "stdout",
     "output_type": "stream",
     "text": [
      "Error processing fma_large/136/136800.mp3: local variable 'track_title' referenced before assignment\n",
      "Processing track ID: 136229\n"
     ]
    },
    {
     "name": "stderr",
     "output_type": "stream",
     "text": [
      "\n",
      "Processing audio files:  16%|██▉               | 16/100 [00:05<00:29,  2.86it/s]\u001b[A"
     ]
    },
    {
     "name": "stdout",
     "output_type": "stream",
     "text": [
      "Error processing fma_large/136/136229.mp3: local variable 'track_title' referenced before assignment\n",
      "Processing track ID: 136093\n"
     ]
    },
    {
     "name": "stderr",
     "output_type": "stream",
     "text": [
      "\n",
      "Processing audio files:  17%|███               | 17/100 [00:05<00:28,  2.95it/s]\u001b[A"
     ]
    },
    {
     "name": "stdout",
     "output_type": "stream",
     "text": [
      "Error processing fma_large/136/136093.mp3: local variable 'track_title' referenced before assignment\n",
      "Processing track ID: 136752\n"
     ]
    },
    {
     "name": "stderr",
     "output_type": "stream",
     "text": [
      "\n",
      "Processing audio files:  18%|███▏              | 18/100 [00:06<00:27,  3.00it/s]\u001b[A"
     ]
    },
    {
     "name": "stdout",
     "output_type": "stream",
     "text": [
      "Error processing fma_large/136/136752.mp3: local variable 'track_title' referenced before assignment\n",
      "Processing track ID: 136235\n"
     ]
    },
    {
     "name": "stderr",
     "output_type": "stream",
     "text": [
      "\n",
      "Processing audio files:  19%|███▍              | 19/100 [00:06<00:26,  3.10it/s]\u001b[A"
     ]
    },
    {
     "name": "stdout",
     "output_type": "stream",
     "text": [
      "Error processing fma_large/136/136235.mp3: local variable 'track_title' referenced before assignment\n",
      "Processing track ID: 136212\n"
     ]
    },
    {
     "name": "stderr",
     "output_type": "stream",
     "text": [
      "\n",
      "Processing audio files:  20%|███▌              | 20/100 [00:06<00:25,  3.17it/s]\u001b[A"
     ]
    },
    {
     "name": "stdout",
     "output_type": "stream",
     "text": [
      "Error processing fma_large/136/136212.mp3: local variable 'track_title' referenced before assignment\n",
      "Processing track ID: 136341\n"
     ]
    },
    {
     "name": "stderr",
     "output_type": "stream",
     "text": [
      "\n",
      "Processing audio files:  21%|███▊              | 21/100 [00:07<00:25,  3.04it/s]\u001b[A"
     ]
    },
    {
     "name": "stdout",
     "output_type": "stream",
     "text": [
      "Error processing fma_large/136/136341.mp3: local variable 'track_title' referenced before assignment\n",
      "Processing track ID: 136016\n"
     ]
    },
    {
     "name": "stderr",
     "output_type": "stream",
     "text": [
      "\n",
      "Processing audio files:  22%|███▉              | 22/100 [00:07<00:26,  2.99it/s]\u001b[A"
     ]
    },
    {
     "name": "stdout",
     "output_type": "stream",
     "text": [
      "Error processing fma_large/136/136016.mp3: local variable 'track_title' referenced before assignment\n",
      "Processing track ID: 136648\n"
     ]
    },
    {
     "name": "stderr",
     "output_type": "stream",
     "text": [
      "\n",
      "Processing audio files:  23%|████▏             | 23/100 [00:07<00:24,  3.10it/s]\u001b[A"
     ]
    },
    {
     "name": "stdout",
     "output_type": "stream",
     "text": [
      "Error processing fma_large/136/136648.mp3: local variable 'track_title' referenced before assignment\n",
      "Processing track ID: 136349\n"
     ]
    },
    {
     "name": "stderr",
     "output_type": "stream",
     "text": [
      "\n",
      "Processing audio files:  24%|████▎             | 24/100 [00:08<00:25,  2.95it/s]\u001b[A"
     ]
    },
    {
     "name": "stdout",
     "output_type": "stream",
     "text": [
      "Error processing fma_large/136/136349.mp3: local variable 'track_title' referenced before assignment\n",
      "Processing track ID: 136386\n"
     ]
    },
    {
     "name": "stderr",
     "output_type": "stream",
     "text": [
      "\n",
      "Processing audio files:  25%|████▌             | 25/100 [00:08<00:25,  2.92it/s]\u001b[A"
     ]
    },
    {
     "name": "stdout",
     "output_type": "stream",
     "text": [
      "Error processing fma_large/136/136386.mp3: local variable 'track_title' referenced before assignment\n",
      "Processing track ID: 136806\n"
     ]
    },
    {
     "name": "stderr",
     "output_type": "stream",
     "text": [
      "\n",
      "Processing audio files:  26%|████▋             | 26/100 [00:08<00:25,  2.86it/s]\u001b[A"
     ]
    },
    {
     "name": "stdout",
     "output_type": "stream",
     "text": [
      "Error processing fma_large/136/136806.mp3: local variable 'track_title' referenced before assignment\n",
      "Processing track ID: 136107\n"
     ]
    },
    {
     "name": "stderr",
     "output_type": "stream",
     "text": [
      "\n",
      "Processing audio files:  27%|████▊             | 27/100 [00:09<00:25,  2.89it/s]\u001b[A"
     ]
    },
    {
     "name": "stdout",
     "output_type": "stream",
     "text": [
      "Error processing fma_large/136/136107.mp3: local variable 'track_title' referenced before assignment\n",
      "Processing track ID: 136186\n"
     ]
    },
    {
     "name": "stderr",
     "output_type": "stream",
     "text": [
      "\n",
      "Processing audio files:  28%|█████             | 28/100 [00:09<00:24,  2.93it/s]\u001b[A"
     ]
    },
    {
     "name": "stdout",
     "output_type": "stream",
     "text": [
      "Error processing fma_large/136/136186.mp3: local variable 'track_title' referenced before assignment\n",
      "Processing track ID: 136703\n"
     ]
    },
    {
     "name": "stderr",
     "output_type": "stream",
     "text": [
      "\n",
      "Processing audio files:  29%|█████▏            | 29/100 [00:09<00:26,  2.70it/s]\u001b[A"
     ]
    },
    {
     "name": "stdout",
     "output_type": "stream",
     "text": [
      "Error processing fma_large/136/136703.mp3: local variable 'track_title' referenced before assignment\n",
      "Processing track ID: 136882\n"
     ]
    },
    {
     "name": "stderr",
     "output_type": "stream",
     "text": [
      "\n",
      "Processing audio files:  30%|█████▍            | 30/100 [00:10<00:24,  2.82it/s]\u001b[A"
     ]
    },
    {
     "name": "stdout",
     "output_type": "stream",
     "text": [
      "Error processing fma_large/136/136882.mp3: local variable 'track_title' referenced before assignment\n",
      "Processing track ID: 136220\n"
     ]
    },
    {
     "name": "stderr",
     "output_type": "stream",
     "text": [
      "\n",
      "Processing audio files:  31%|█████▌            | 31/100 [00:10<00:25,  2.67it/s]\u001b[A"
     ]
    },
    {
     "name": "stdout",
     "output_type": "stream",
     "text": [
      "Error processing fma_large/136/136220.mp3: local variable 'track_title' referenced before assignment\n",
      "Processing track ID: 136730\n"
     ]
    },
    {
     "name": "stderr",
     "output_type": "stream",
     "text": [
      "\n",
      "Processing audio files:  32%|█████▊            | 32/100 [00:10<00:25,  2.68it/s]\u001b[A"
     ]
    },
    {
     "name": "stdout",
     "output_type": "stream",
     "text": [
      "Error processing fma_large/136/136730.mp3: local variable 'track_title' referenced before assignment\n",
      "Processing track ID: 136074\n"
     ]
    },
    {
     "name": "stderr",
     "output_type": "stream",
     "text": [
      "\n",
      "Processing audio files:  33%|█████▉            | 33/100 [00:11<00:23,  2.79it/s]\u001b[A"
     ]
    },
    {
     "name": "stdout",
     "output_type": "stream",
     "text": [
      "Error processing fma_large/136/136074.mp3: local variable 'track_title' referenced before assignment\n",
      "Processing track ID: 136871\n"
     ]
    },
    {
     "name": "stderr",
     "output_type": "stream",
     "text": [
      "\n",
      "Processing audio files:  34%|██████            | 34/100 [00:11<00:23,  2.78it/s]\u001b[A"
     ]
    },
    {
     "name": "stdout",
     "output_type": "stream",
     "text": [
      "Error processing fma_large/136/136871.mp3: local variable 'track_title' referenced before assignment\n",
      "Processing track ID: 136933\n"
     ]
    },
    {
     "name": "stderr",
     "output_type": "stream",
     "text": [
      "\n",
      "Processing audio files:  35%|██████▎           | 35/100 [00:11<00:22,  2.86it/s]\u001b[A"
     ]
    },
    {
     "name": "stdout",
     "output_type": "stream",
     "text": [
      "Error processing fma_large/136/136933.mp3: local variable 'track_title' referenced before assignment\n",
      "Processing track ID: 136641\n"
     ]
    },
    {
     "name": "stderr",
     "output_type": "stream",
     "text": [
      "\n",
      "Processing audio files:  36%|██████▍           | 36/100 [00:12<00:22,  2.91it/s]\u001b[A"
     ]
    },
    {
     "name": "stdout",
     "output_type": "stream",
     "text": [
      "Error processing fma_large/136/136641.mp3: local variable 'track_title' referenced before assignment\n",
      "Processing track ID: 136497\n"
     ]
    },
    {
     "name": "stderr",
     "output_type": "stream",
     "text": [
      "\n",
      "Processing audio files:  37%|██████▋           | 37/100 [00:12<00:21,  2.92it/s]\u001b[A"
     ]
    },
    {
     "name": "stdout",
     "output_type": "stream",
     "text": [
      "Error processing fma_large/136/136497.mp3: local variable 'track_title' referenced before assignment\n",
      "Processing track ID: 136056\n"
     ]
    },
    {
     "name": "stderr",
     "output_type": "stream",
     "text": [
      "\n",
      "Processing audio files:  38%|██████▊           | 38/100 [00:12<00:20,  2.99it/s]\u001b[A"
     ]
    },
    {
     "name": "stdout",
     "output_type": "stream",
     "text": [
      "Error processing fma_large/136/136056.mp3: local variable 'track_title' referenced before assignment\n",
      "Processing track ID: 136763\n"
     ]
    },
    {
     "name": "stderr",
     "output_type": "stream",
     "text": [
      "\n",
      "Processing audio files:  39%|███████           | 39/100 [00:13<00:20,  3.02it/s]\u001b[A"
     ]
    },
    {
     "name": "stdout",
     "output_type": "stream",
     "text": [
      "Error processing fma_large/136/136763.mp3: local variable 'track_title' referenced before assignment\n",
      "Processing track ID: 136353\n"
     ]
    },
    {
     "name": "stderr",
     "output_type": "stream",
     "text": [
      "\n",
      "Processing audio files:  40%|███████▏          | 40/100 [00:13<00:20,  2.92it/s]\u001b[A"
     ]
    },
    {
     "name": "stdout",
     "output_type": "stream",
     "text": [
      "Error processing fma_large/136/136353.mp3: local variable 'track_title' referenced before assignment\n",
      "Processing track ID: 136653\n"
     ]
    },
    {
     "name": "stderr",
     "output_type": "stream",
     "text": [
      "\n",
      "Processing audio files:  41%|███████▍          | 41/100 [00:13<00:19,  2.97it/s]\u001b[A\n",
      "Processing audio files:  42%|███████▌          | 42/100 [00:14<00:15,  3.63it/s]\u001b[A"
     ]
    },
    {
     "name": "stdout",
     "output_type": "stream",
     "text": [
      "Error processing fma_large/136/136653.mp3: local variable 'track_title' referenced before assignment\n",
      "Processing track ID: 136521\n",
      "Error processing fma_large/136/136521.mp3: local variable 'track_title' referenced before assignment\n",
      "Processing track ID: 136805\n"
     ]
    },
    {
     "name": "stderr",
     "output_type": "stream",
     "text": [
      "\n",
      "Processing audio files:  43%|███████▋          | 43/100 [00:14<00:17,  3.32it/s]\u001b[A"
     ]
    },
    {
     "name": "stdout",
     "output_type": "stream",
     "text": [
      "Error processing fma_large/136/136805.mp3: local variable 'track_title' referenced before assignment\n",
      "Processing track ID: 136024\n"
     ]
    },
    {
     "name": "stderr",
     "output_type": "stream",
     "text": [
      "\n",
      "Processing audio files:  44%|███████▉          | 44/100 [00:14<00:17,  3.18it/s]\u001b[A"
     ]
    },
    {
     "name": "stdout",
     "output_type": "stream",
     "text": [
      "Error processing fma_large/136/136024.mp3: local variable 'track_title' referenced before assignment\n",
      "Processing track ID: 136962\n"
     ]
    },
    {
     "name": "stderr",
     "output_type": "stream",
     "text": [
      "\n",
      "Processing audio files:  45%|████████          | 45/100 [00:15<00:18,  2.93it/s]\u001b[A"
     ]
    },
    {
     "name": "stdout",
     "output_type": "stream",
     "text": [
      "Error processing fma_large/136/136962.mp3: local variable 'track_title' referenced before assignment\n",
      "Processing track ID: 136198\n"
     ]
    },
    {
     "name": "stderr",
     "output_type": "stream",
     "text": [
      "\n",
      "Processing audio files:  46%|████████▎         | 46/100 [00:15<00:18,  2.96it/s]\u001b[A"
     ]
    },
    {
     "name": "stdout",
     "output_type": "stream",
     "text": [
      "Error processing fma_large/136/136198.mp3: local variable 'track_title' referenced before assignment\n",
      "Processing track ID: 136473\n"
     ]
    },
    {
     "name": "stderr",
     "output_type": "stream",
     "text": [
      "\n",
      "Processing audio files:  47%|████████▍         | 47/100 [00:15<00:17,  3.03it/s]\u001b[A"
     ]
    },
    {
     "name": "stdout",
     "output_type": "stream",
     "text": [
      "Error processing fma_large/136/136473.mp3: local variable 'track_title' referenced before assignment\n",
      "Processing track ID: 136275\n"
     ]
    },
    {
     "name": "stderr",
     "output_type": "stream",
     "text": [
      "\n",
      "Processing audio files:  48%|████████▋         | 48/100 [00:16<00:18,  2.88it/s]\u001b[A"
     ]
    },
    {
     "name": "stdout",
     "output_type": "stream",
     "text": [
      "Error processing fma_large/136/136275.mp3: local variable 'track_title' referenced before assignment\n",
      "Processing track ID: 136929\n"
     ]
    },
    {
     "name": "stderr",
     "output_type": "stream",
     "text": [
      "\n",
      "Processing audio files:  49%|████████▊         | 49/100 [00:16<00:17,  2.97it/s]\u001b[A"
     ]
    },
    {
     "name": "stdout",
     "output_type": "stream",
     "text": [
      "Error processing fma_large/136/136929.mp3: local variable 'track_title' referenced before assignment\n",
      "Processing track ID: 136915\n"
     ]
    },
    {
     "name": "stderr",
     "output_type": "stream",
     "text": [
      "\n",
      "Processing audio files:  50%|█████████         | 50/100 [00:16<00:16,  3.02it/s]\u001b[A"
     ]
    },
    {
     "name": "stdout",
     "output_type": "stream",
     "text": [
      "Error processing fma_large/136/136915.mp3: local variable 'track_title' referenced before assignment\n",
      "Processing track ID: 136704\n"
     ]
    },
    {
     "name": "stderr",
     "output_type": "stream",
     "text": [
      "\n",
      "Processing audio files:  51%|█████████▏        | 51/100 [00:17<00:15,  3.15it/s]\u001b[A"
     ]
    },
    {
     "name": "stdout",
     "output_type": "stream",
     "text": [
      "Error processing fma_large/136/136704.mp3: local variable 'track_title' referenced before assignment\n",
      "Processing track ID: 136983\n"
     ]
    },
    {
     "name": "stderr",
     "output_type": "stream",
     "text": [
      "\n",
      "Processing audio files:  52%|█████████▎        | 52/100 [00:17<00:15,  3.13it/s]\u001b[A"
     ]
    },
    {
     "name": "stdout",
     "output_type": "stream",
     "text": [
      "Error processing fma_large/136/136983.mp3: local variable 'track_title' referenced before assignment\n",
      "Processing track ID: 136770\n"
     ]
    },
    {
     "name": "stderr",
     "output_type": "stream",
     "text": [
      "\n",
      "Processing audio files:  53%|█████████▌        | 53/100 [00:17<00:15,  3.11it/s]\u001b[A"
     ]
    },
    {
     "name": "stdout",
     "output_type": "stream",
     "text": [
      "Error processing fma_large/136/136770.mp3: local variable 'track_title' referenced before assignment\n",
      "Processing track ID: 136654\n"
     ]
    },
    {
     "name": "stderr",
     "output_type": "stream",
     "text": [
      "\n",
      "Processing audio files:  54%|█████████▋        | 54/100 [00:18<00:14,  3.18it/s]\u001b[A"
     ]
    },
    {
     "name": "stdout",
     "output_type": "stream",
     "text": [
      "Error processing fma_large/136/136654.mp3: local variable 'track_title' referenced before assignment\n",
      "Processing track ID: 136412\n"
     ]
    },
    {
     "name": "stderr",
     "output_type": "stream",
     "text": [
      "\n",
      "Processing audio files:  55%|█████████▉        | 55/100 [00:18<00:14,  3.17it/s]\u001b[A"
     ]
    },
    {
     "name": "stdout",
     "output_type": "stream",
     "text": [
      "Error processing fma_large/136/136412.mp3: local variable 'track_title' referenced before assignment\n",
      "Processing track ID: 136009\n"
     ]
    },
    {
     "name": "stderr",
     "output_type": "stream",
     "text": [
      "\n",
      "Processing audio files:  56%|██████████        | 56/100 [00:18<00:14,  3.10it/s]\u001b[A"
     ]
    },
    {
     "name": "stdout",
     "output_type": "stream",
     "text": [
      "Error processing fma_large/136/136009.mp3: local variable 'track_title' referenced before assignment\n",
      "Processing track ID: 136772\n"
     ]
    },
    {
     "name": "stderr",
     "output_type": "stream",
     "text": [
      "\n",
      "Processing audio files:  57%|██████████▎       | 57/100 [00:19<00:14,  3.04it/s]\u001b[A"
     ]
    },
    {
     "name": "stdout",
     "output_type": "stream",
     "text": [
      "Error processing fma_large/136/136772.mp3: local variable 'track_title' referenced before assignment\n",
      "Processing track ID: 136972\n"
     ]
    },
    {
     "name": "stderr",
     "output_type": "stream",
     "text": [
      "\n",
      "Processing audio files:  58%|██████████▍       | 58/100 [00:20<00:28,  1.48it/s]\u001b[A"
     ]
    },
    {
     "name": "stdout",
     "output_type": "stream",
     "text": [
      "Error processing fma_large/136/136972.mp3: local variable 'track_title' referenced before assignment\n",
      "Processing track ID: 136081\n"
     ]
    },
    {
     "name": "stderr",
     "output_type": "stream",
     "text": [
      "\n",
      "Processing audio files:  59%|██████████▌       | 59/100 [00:20<00:23,  1.76it/s]\u001b[A"
     ]
    },
    {
     "name": "stdout",
     "output_type": "stream",
     "text": [
      "Error processing fma_large/136/136081.mp3: local variable 'track_title' referenced before assignment\n",
      "Processing track ID: 136829\n"
     ]
    },
    {
     "name": "stderr",
     "output_type": "stream",
     "text": [
      "\n",
      "Processing audio files:  60%|██████████▊       | 60/100 [00:21<00:19,  2.01it/s]\u001b[A"
     ]
    },
    {
     "name": "stdout",
     "output_type": "stream",
     "text": [
      "Error processing fma_large/136/136829.mp3: local variable 'track_title' referenced before assignment\n",
      "Processing track ID: 136142\n"
     ]
    },
    {
     "name": "stderr",
     "output_type": "stream",
     "text": [
      "\n",
      "Processing audio files:  61%|██████████▉       | 61/100 [00:21<00:17,  2.24it/s]\u001b[A"
     ]
    },
    {
     "name": "stdout",
     "output_type": "stream",
     "text": [
      "Error processing fma_large/136/136142.mp3: local variable 'track_title' referenced before assignment\n",
      "Processing track ID: 136778\n"
     ]
    },
    {
     "name": "stderr",
     "output_type": "stream",
     "text": [
      "\n",
      "Processing audio files:  62%|███████████▏      | 62/100 [00:21<00:15,  2.38it/s]\u001b[A"
     ]
    },
    {
     "name": "stdout",
     "output_type": "stream",
     "text": [
      "Error processing fma_large/136/136778.mp3: local variable 'track_title' referenced before assignment\n",
      "Processing track ID: 136783\n"
     ]
    },
    {
     "name": "stderr",
     "output_type": "stream",
     "text": [
      "\n",
      "Processing audio files:  63%|███████████▎      | 63/100 [00:22<00:14,  2.60it/s]\u001b[A"
     ]
    },
    {
     "name": "stdout",
     "output_type": "stream",
     "text": [
      "Error processing fma_large/136/136783.mp3: local variable 'track_title' referenced before assignment\n",
      "Processing track ID: 136258\n"
     ]
    },
    {
     "name": "stderr",
     "output_type": "stream",
     "text": [
      "\n",
      "Processing audio files:  64%|███████████▌      | 64/100 [00:22<00:13,  2.73it/s]\u001b[A"
     ]
    },
    {
     "name": "stdout",
     "output_type": "stream",
     "text": [
      "Error processing fma_large/136/136258.mp3: local variable 'track_title' referenced before assignment\n",
      "Processing track ID: 136804\n"
     ]
    },
    {
     "name": "stderr",
     "output_type": "stream",
     "text": [
      "\n",
      "Processing audio files:  65%|███████████▋      | 65/100 [00:22<00:12,  2.71it/s]\u001b[A"
     ]
    },
    {
     "name": "stdout",
     "output_type": "stream",
     "text": [
      "Error processing fma_large/136/136804.mp3: local variable 'track_title' referenced before assignment\n",
      "Processing track ID: 136721\n"
     ]
    },
    {
     "name": "stderr",
     "output_type": "stream",
     "text": [
      "\n",
      "Processing audio files:  66%|███████████▉      | 66/100 [00:23<00:12,  2.70it/s]\u001b[A"
     ]
    },
    {
     "name": "stdout",
     "output_type": "stream",
     "text": [
      "Error processing fma_large/136/136721.mp3: local variable 'track_title' referenced before assignment\n",
      "Processing track ID: 136628\n"
     ]
    },
    {
     "name": "stderr",
     "output_type": "stream",
     "text": [
      "\n",
      "Processing audio files:  67%|████████████      | 67/100 [00:23<00:11,  2.84it/s]\u001b[A"
     ]
    },
    {
     "name": "stdout",
     "output_type": "stream",
     "text": [
      "Error processing fma_large/136/136628.mp3: local variable 'track_title' referenced before assignment\n",
      "Processing track ID: 136467\n"
     ]
    },
    {
     "name": "stderr",
     "output_type": "stream",
     "text": [
      "\n",
      "Processing audio files:  68%|████████████▏     | 68/100 [00:23<00:10,  2.98it/s]\u001b[A"
     ]
    },
    {
     "name": "stdout",
     "output_type": "stream",
     "text": [
      "Error processing fma_large/136/136467.mp3: local variable 'track_title' referenced before assignment\n",
      "Processing track ID: 136200\n"
     ]
    },
    {
     "name": "stderr",
     "output_type": "stream",
     "text": [
      "\n",
      "Processing audio files:  69%|████████████▍     | 69/100 [00:24<00:10,  3.03it/s]\u001b[A"
     ]
    },
    {
     "name": "stdout",
     "output_type": "stream",
     "text": [
      "Error processing fma_large/136/136200.mp3: local variable 'track_title' referenced before assignment\n",
      "Processing track ID: 136199\n"
     ]
    },
    {
     "name": "stderr",
     "output_type": "stream",
     "text": [
      "\n",
      "Processing audio files:  70%|████████████▌     | 70/100 [00:24<00:10,  2.93it/s]\u001b[A"
     ]
    },
    {
     "name": "stdout",
     "output_type": "stream",
     "text": [
      "Error processing fma_large/136/136199.mp3: local variable 'track_title' referenced before assignment\n",
      "Processing track ID: 136790\n"
     ]
    },
    {
     "name": "stderr",
     "output_type": "stream",
     "text": [
      "\n",
      "Processing audio files:  71%|████████████▊     | 71/100 [00:24<00:09,  3.02it/s]\u001b[A"
     ]
    },
    {
     "name": "stdout",
     "output_type": "stream",
     "text": [
      "Error processing fma_large/136/136790.mp3: local variable 'track_title' referenced before assignment\n",
      "Processing track ID: 136471\n"
     ]
    },
    {
     "name": "stderr",
     "output_type": "stream",
     "text": [
      "\n",
      "Processing audio files:  72%|████████████▉     | 72/100 [00:25<00:09,  2.88it/s]\u001b[A"
     ]
    },
    {
     "name": "stdout",
     "output_type": "stream",
     "text": [
      "Error processing fma_large/136/136471.mp3: local variable 'track_title' referenced before assignment\n",
      "Processing track ID: 136629\n"
     ]
    },
    {
     "name": "stderr",
     "output_type": "stream",
     "text": [
      "\n",
      "Processing audio files:  73%|█████████████▏    | 73/100 [00:25<00:09,  2.88it/s]\u001b[A"
     ]
    },
    {
     "name": "stdout",
     "output_type": "stream",
     "text": [
      "Error processing fma_large/136/136629.mp3: local variable 'track_title' referenced before assignment\n",
      "Processing track ID: 136444\n"
     ]
    },
    {
     "name": "stderr",
     "output_type": "stream",
     "text": [
      "\n",
      "Processing audio files:  74%|█████████████▎    | 74/100 [00:26<00:09,  2.69it/s]\u001b[A"
     ]
    },
    {
     "name": "stdout",
     "output_type": "stream",
     "text": [
      "Error processing fma_large/136/136444.mp3: local variable 'track_title' referenced before assignment\n",
      "Processing track ID: 136748\n"
     ]
    },
    {
     "name": "stderr",
     "output_type": "stream",
     "text": [
      "\n",
      "Processing audio files:  75%|█████████████▌    | 75/100 [00:26<00:09,  2.51it/s]\u001b[A"
     ]
    },
    {
     "name": "stdout",
     "output_type": "stream",
     "text": [
      "Error processing fma_large/136/136748.mp3: local variable 'track_title' referenced before assignment\n",
      "Processing track ID: 136420\n"
     ]
    },
    {
     "name": "stderr",
     "output_type": "stream",
     "text": [
      "\n",
      "Processing audio files:  76%|█████████████▋    | 76/100 [00:27<00:11,  2.14it/s]\u001b[A"
     ]
    },
    {
     "name": "stdout",
     "output_type": "stream",
     "text": [
      "Error processing fma_large/136/136420.mp3: local variable 'track_title' referenced before assignment\n",
      "Processing track ID: 136781\n"
     ]
    },
    {
     "name": "stderr",
     "output_type": "stream",
     "text": [
      "\n",
      "Processing audio files:  77%|█████████████▊    | 77/100 [00:27<00:09,  2.43it/s]\u001b[A"
     ]
    },
    {
     "name": "stdout",
     "output_type": "stream",
     "text": [
      "Error processing fma_large/136/136781.mp3: local variable 'track_title' referenced before assignment\n",
      "Processing track ID: 136736\n"
     ]
    },
    {
     "name": "stderr",
     "output_type": "stream",
     "text": [
      "\n",
      "Processing audio files:  78%|██████████████    | 78/100 [00:28<00:10,  2.17it/s]\u001b[A"
     ]
    },
    {
     "name": "stdout",
     "output_type": "stream",
     "text": [
      "Error processing fma_large/136/136736.mp3: local variable 'track_title' referenced before assignment\n",
      "Processing track ID: 136743\n"
     ]
    },
    {
     "name": "stderr",
     "output_type": "stream",
     "text": [
      "\n",
      "Processing audio files:  79%|██████████████▏   | 79/100 [00:28<00:10,  2.02it/s]\u001b[A"
     ]
    },
    {
     "name": "stdout",
     "output_type": "stream",
     "text": [
      "Error processing fma_large/136/136743.mp3: local variable 'track_title' referenced before assignment\n",
      "Processing track ID: 136196\n"
     ]
    },
    {
     "name": "stderr",
     "output_type": "stream",
     "text": [
      "\n",
      "Processing audio files:  80%|██████████████▍   | 80/100 [00:28<00:08,  2.24it/s]\u001b[A"
     ]
    },
    {
     "name": "stdout",
     "output_type": "stream",
     "text": [
      "Error processing fma_large/136/136196.mp3: local variable 'track_title' referenced before assignment\n",
      "Processing track ID: 136429\n"
     ]
    },
    {
     "name": "stderr",
     "output_type": "stream",
     "text": [
      "\n",
      "Processing audio files:  81%|██████████████▌   | 81/100 [00:29<00:07,  2.45it/s]\u001b[A"
     ]
    },
    {
     "name": "stdout",
     "output_type": "stream",
     "text": [
      "Error processing fma_large/136/136429.mp3: local variable 'track_title' referenced before assignment\n",
      "Processing track ID: 136216\n"
     ]
    },
    {
     "name": "stderr",
     "output_type": "stream",
     "text": [
      "\n",
      "Processing audio files:  82%|██████████████▊   | 82/100 [00:29<00:07,  2.53it/s]\u001b[A"
     ]
    },
    {
     "name": "stdout",
     "output_type": "stream",
     "text": [
      "Error processing fma_large/136/136216.mp3: local variable 'track_title' referenced before assignment\n",
      "Processing track ID: 136758\n"
     ]
    },
    {
     "name": "stderr",
     "output_type": "stream",
     "text": [
      "\n",
      "Processing audio files:  83%|██████████████▉   | 83/100 [00:29<00:06,  2.57it/s]\u001b[A"
     ]
    },
    {
     "name": "stdout",
     "output_type": "stream",
     "text": [
      "Error processing fma_large/136/136758.mp3: local variable 'track_title' referenced before assignment\n",
      "Processing track ID: 136821\n"
     ]
    },
    {
     "name": "stderr",
     "output_type": "stream",
     "text": [
      "\n",
      "Processing audio files:  84%|███████████████   | 84/100 [00:30<00:06,  2.54it/s]\u001b[A"
     ]
    },
    {
     "name": "stdout",
     "output_type": "stream",
     "text": [
      "Error processing fma_large/136/136821.mp3: local variable 'track_title' referenced before assignment\n",
      "Processing track ID: 136242\n"
     ]
    },
    {
     "name": "stderr",
     "output_type": "stream",
     "text": [
      "\n",
      "Processing audio files:  85%|███████████████▎  | 85/100 [00:30<00:06,  2.50it/s]\u001b[A"
     ]
    },
    {
     "name": "stdout",
     "output_type": "stream",
     "text": [
      "Error processing fma_large/136/136242.mp3: local variable 'track_title' referenced before assignment\n",
      "Processing track ID: 136960\n"
     ]
    },
    {
     "name": "stderr",
     "output_type": "stream",
     "text": [
      "\n",
      "Processing audio files:  86%|███████████████▍  | 86/100 [00:31<00:05,  2.49it/s]\u001b[A"
     ]
    },
    {
     "name": "stdout",
     "output_type": "stream",
     "text": [
      "Error processing fma_large/136/136960.mp3: local variable 'track_title' referenced before assignment\n",
      "Processing track ID: 136599\n"
     ]
    },
    {
     "name": "stderr",
     "output_type": "stream",
     "text": [
      "\n",
      "Processing audio files:  87%|███████████████▋  | 87/100 [00:31<00:04,  2.60it/s]\u001b[A"
     ]
    },
    {
     "name": "stdout",
     "output_type": "stream",
     "text": [
      "Error processing fma_large/136/136599.mp3: local variable 'track_title' referenced before assignment\n",
      "Processing track ID: 136791\n"
     ]
    },
    {
     "name": "stderr",
     "output_type": "stream",
     "text": [
      "\n",
      "Processing audio files:  88%|███████████████▊  | 88/100 [00:31<00:04,  2.79it/s]\u001b[A"
     ]
    },
    {
     "name": "stdout",
     "output_type": "stream",
     "text": [
      "Error processing fma_large/136/136791.mp3: local variable 'track_title' referenced before assignment\n",
      "Processing track ID: 136490\n"
     ]
    },
    {
     "name": "stderr",
     "output_type": "stream",
     "text": [
      "\n",
      "Processing audio files:  89%|████████████████  | 89/100 [00:33<00:06,  1.65it/s]\u001b[A"
     ]
    },
    {
     "name": "stdout",
     "output_type": "stream",
     "text": [
      "Error processing fma_large/136/136490.mp3: local variable 'track_title' referenced before assignment\n",
      "Processing track ID: 136488\n"
     ]
    },
    {
     "name": "stderr",
     "output_type": "stream",
     "text": [
      "\n",
      "Processing audio files:  90%|████████████████▏ | 90/100 [00:33<00:05,  1.87it/s]\u001b[A"
     ]
    },
    {
     "name": "stdout",
     "output_type": "stream",
     "text": [
      "Error processing fma_large/136/136488.mp3: local variable 'track_title' referenced before assignment\n",
      "Processing track ID: 136952\n"
     ]
    },
    {
     "name": "stderr",
     "output_type": "stream",
     "text": [
      "\n",
      "Processing audio files:  91%|████████████████▍ | 91/100 [00:33<00:04,  2.06it/s]\u001b[A"
     ]
    },
    {
     "name": "stdout",
     "output_type": "stream",
     "text": [
      "Error processing fma_large/136/136952.mp3: local variable 'track_title' referenced before assignment\n",
      "Processing track ID: 136814\n"
     ]
    },
    {
     "name": "stderr",
     "output_type": "stream",
     "text": [
      "\n",
      "Processing audio files:  92%|████████████████▌ | 92/100 [00:34<00:03,  2.24it/s]\u001b[A"
     ]
    },
    {
     "name": "stdout",
     "output_type": "stream",
     "text": [
      "Error processing fma_large/136/136814.mp3: local variable 'track_title' referenced before assignment\n",
      "Processing track ID: 136322\n"
     ]
    },
    {
     "name": "stderr",
     "output_type": "stream",
     "text": [
      "\n",
      "Processing audio files:  93%|████████████████▋ | 93/100 [00:34<00:02,  2.34it/s]\u001b[A"
     ]
    },
    {
     "name": "stdout",
     "output_type": "stream",
     "text": [
      "Error processing fma_large/136/136322.mp3: local variable 'track_title' referenced before assignment\n",
      "Processing track ID: 136664\n"
     ]
    },
    {
     "name": "stderr",
     "output_type": "stream",
     "text": [
      "\n",
      "Processing audio files:  94%|████████████████▉ | 94/100 [00:34<00:02,  2.54it/s]\u001b[A"
     ]
    },
    {
     "name": "stdout",
     "output_type": "stream",
     "text": [
      "Error processing fma_large/136/136664.mp3: local variable 'track_title' referenced before assignment\n",
      "Processing track ID: 136965\n"
     ]
    },
    {
     "name": "stderr",
     "output_type": "stream",
     "text": [
      "\n",
      "Processing audio files:  95%|█████████████████ | 95/100 [00:35<00:01,  2.58it/s]\u001b[A"
     ]
    },
    {
     "name": "stdout",
     "output_type": "stream",
     "text": [
      "Error processing fma_large/136/136965.mp3: local variable 'track_title' referenced before assignment\n",
      "Processing track ID: 136831\n"
     ]
    },
    {
     "name": "stderr",
     "output_type": "stream",
     "text": [
      "\n",
      "Processing audio files:  96%|█████████████████▎| 96/100 [00:35<00:01,  2.23it/s]\u001b[A"
     ]
    },
    {
     "name": "stdout",
     "output_type": "stream",
     "text": [
      "Error processing fma_large/136/136831.mp3: local variable 'track_title' referenced before assignment\n",
      "Processing track ID: 136144\n"
     ]
    },
    {
     "name": "stderr",
     "output_type": "stream",
     "text": [
      "\n",
      "Processing audio files:  97%|█████████████████▍| 97/100 [00:36<00:01,  2.43it/s]\u001b[A"
     ]
    },
    {
     "name": "stdout",
     "output_type": "stream",
     "text": [
      "Error processing fma_large/136/136144.mp3: local variable 'track_title' referenced before assignment\n",
      "Processing track ID: 136947\n"
     ]
    },
    {
     "name": "stderr",
     "output_type": "stream",
     "text": [
      "\n",
      "Processing audio files:  98%|█████████████████▋| 98/100 [00:36<00:00,  2.49it/s]\u001b[A"
     ]
    },
    {
     "name": "stdout",
     "output_type": "stream",
     "text": [
      "Error processing fma_large/136/136947.mp3: local variable 'track_title' referenced before assignment\n",
      "Processing track ID: 136124\n"
     ]
    },
    {
     "name": "stderr",
     "output_type": "stream",
     "text": [
      "\n",
      "Processing audio files:  99%|█████████████████▊| 99/100 [00:36<00:00,  2.65it/s]\u001b[A"
     ]
    },
    {
     "name": "stdout",
     "output_type": "stream",
     "text": [
      "Error processing fma_large/136/136124.mp3: local variable 'track_title' referenced before assignment\n",
      "Processing track ID: 136994\n"
     ]
    },
    {
     "name": "stderr",
     "output_type": "stream",
     "text": [
      "\n",
      "Processing audio files: 100%|█████████████████| 100/100 [00:37<00:00,  2.69it/s]\u001b[A"
     ]
    },
    {
     "name": "stdout",
     "output_type": "stream",
     "text": [
      "Error processing fma_large/136/136994.mp3: local variable 'track_title' referenced before assignment\n",
      "Feature extraction and loading into MongoDB completed.\n"
     ]
    },
    {
     "name": "stderr",
     "output_type": "stream",
     "text": [
      "\n"
     ]
    }
   ],
   "source": [
    "import os\n",
    "import pandas as pd\n",
    "import librosa\n",
    "import numpy as np\n",
    "from pymongo import MongoClient\n",
    "from tqdm import tqdm\n",
    "from mutagen.mp3 import MP3\n",
    "\n",
    "# Define file paths\n",
    "metadata_path = \"fma_meta/fma_metadata/tracks.csv\"\n",
    "extracted_data_folder = \"fma_large\"\n",
    "updated_genres_file = \"fma_meta/fma_metadata/updated_genres_and_track_ids.csv\"\n",
    "echonest_data_file = 'fma_meta/fma_metadata/echonest_1.csv'\n",
    "\n",
    "# Load metadata\n",
    "metadata = pd.read_csv(metadata_path, index_col=0)\n",
    "\n",
    "# Load updated genres\n",
    "updated_genres = pd.read_csv(updated_genres_file)\n",
    "\n",
    "# Load echonest data\n",
    "\n",
    "\n",
    "# Define MongoDB connection parameters\n",
    "\n",
    "# Load echonest data\n",
    "echonest_csv_path = 'fma_meta/fma_metadata/echonest_2.csv'\n",
    "echonest_data = pd.read_csv(echonest_csv_path, index_col='track_id')\n",
    "# Convert track_id index to int32 for compatibility with MongoDB _id\n",
    "echonest_data.index = echonest_data.index.astype('int32')\n",
    "\n",
    "# Define MongoDB connection parameters\n",
    "mongo_client = MongoClient('localhost', 27017)\n",
    "db = mongo_client['music_recommendation_40']\n",
    "collection = db['tracks']\n",
    "\n",
    "for _, row in tqdm(echonest_data.iterrows(), total=echonest_data.shape[0]):\n",
    "    document = {\n",
    "        '_id': int(row.name),  # Using track_id as the document ID\n",
    "        'acousticness': row['acousticness'],\n",
    "        'danceability': row['danceability'],\n",
    "        'energy': row['energy'],\n",
    "        'instrumentalness': row['instrumentalness'],\n",
    "        'liveness': row['liveness'],\n",
    "        'speechiness': row['speechiness'],\n",
    "        'tempo': row['tempo'],\n",
    "        'valence': row['valence']\n",
    "    }\n",
    "    \n",
    "    # Insert the document into the collection, handle duplicates gracefully\n",
    "    collection.update_one({'_id': int(row.name)}, {'$set': document}, upsert=True)\n",
    "\n",
    "def extract_features(audio_path):\n",
    "    try:\n",
    "        y, sr = librosa.load(audio_path, sr=None)  # Load audio file\n",
    "        mfccs = librosa.feature.mfcc(y=y, sr=sr)  # Extract MFCCs\n",
    "        spectral_centroid = librosa.feature.spectral_centroid(y=y, sr=sr)[0]  # Extract spectral centroid\n",
    "        zero_crossing_rate = librosa.feature.zero_crossing_rate(y)[0]  # Extract zero-crossing rate\n",
    "        \n",
    "        # Normalize features\n",
    "        mfccs = librosa.util.normalize(mfccs)\n",
    "        spectral_centroid = librosa.util.normalize(spectral_centroid)\n",
    "        zero_crossing_rate = librosa.util.normalize(zero_crossing_rate)\n",
    "        \n",
    "        # Flatten features\n",
    "        mfccs_flat = mfccs.mean(axis=1).flatten()\n",
    "        spectral_centroid_flat = spectral_centroid.flatten()\n",
    "        zero_crossing_rate_flat = np.array([np.mean(zero_crossing_rate)])  # Scalar value\n",
    "        \n",
    "        # Concatenate features\n",
    "        features = np.concatenate([mfccs_flat, spectral_centroid_flat, zero_crossing_rate_flat])\n",
    "        return features\n",
    "    except Exception as e:\n",
    "        print(f\"Error extracting features from {audio_path}: {e}\")\n",
    "        return None\n",
    "\n",
    "# Function to extract album title from audio files\n",
    "def extract_album_title(audio_path):\n",
    "    try:\n",
    "        audio = MP3(audio_path)\n",
    "        album_title = audio.get('TALB')\n",
    "        return album_title[0] if album_title else None\n",
    "    except Exception as e:\n",
    "        print(f\"Error extracting album title from {audio_path}: {e}\")\n",
    "        return None\n",
    "\n",
    "# Function to extract artist name from audio files\n",
    "def extract_artist_name(audio_path):\n",
    "    try:\n",
    "        audio = MP3(audio_path)\n",
    "        artist_name = audio.get('TPE1')\n",
    "        return artist_name[0] if artist_name else None\n",
    "    except Exception as e:\n",
    "        print(f\"Error extracting artist name from {audio_path}: {e}\")\n",
    "        return None\n",
    "\n",
    "def extract_track_title(audio_path):\n",
    "    try:\n",
    "        audio = MP3(audio_path)\n",
    "        track_title = audio.get('TIT2')\n",
    "        return track_title[0] if track_title else None\n",
    "    except Exception as e:\n",
    "        print(f\"Error extracting track title from {audio_path}: {e}\")\n",
    "        return None\n",
    "\n",
    "# Define functions for extracting metadata and features from audio files\n",
    "def extract_metadata_and_features(folder_path, total_files):\n",
    "    progress_bar = tqdm(total=total_files, desc=\"Processing audio files\", dynamic_ncols=True)\n",
    "    processed_files = 0\n",
    "\n",
    "    for folder_name in os.listdir(folder_path):\n",
    "        folder_path = os.path.join(extracted_data_folder, folder_name)\n",
    "        if os.path.isdir(folder_path):\n",
    "            for audio_file in os.listdir(folder_path):\n",
    "                audio_path = os.path.join(folder_path, audio_file)\n",
    "                if audio_file.endswith(\".mp3\") and os.path.isfile(audio_path):\n",
    "                    track_id = int(audio_file.split(\".\")[0])\n",
    "                    process_audio_file(audio_path, track_id)\n",
    "                    processed_files += 1\n",
    "                    progress_bar.update(1)\n",
    "                    if processed_files >= total_files:\n",
    "                        break\n",
    "            if processed_files >= total_files:\n",
    "                break\n",
    "\n",
    "    progress_bar.close()\n",
    "\n",
    "def process_audio_file(audio_path, track_id):\n",
    "    try:\n",
    "        print(f\"Processing track ID: {track_id}\")\n",
    "        \n",
    "        # Extract features and metadata\n",
    "        features = extract_features(audio_path)\n",
    "        \n",
    "        # Map genre_top based on track_id\n",
    "        genre_title = updated_genres.loc[updated_genres['track_id'] == track_id, 'genres'].values[0]\n",
    "        \n",
    "        # Extract album title from audio file\n",
    "        album_title = extract_album_title(audio_path)\n",
    "        \n",
    "        # Extract artist name from audio file\n",
    "        artist_name = extract_artist_name(audio_path)\n",
    "        existing_doc = collection.find_one({\"_id\": track_id})\n",
    "        if existing_doc:\n",
    "                        # Update existing document\n",
    "            collection.update_one({\"_id\": track_id}, {\"$set\": {\n",
    "            \"features\": features.tolist(),\n",
    "            \"album_title\": album_title,\n",
    "            \"artist_name\": artist_name,\n",
    "            \"track_title\": track_title,\n",
    "            \"genre_title\": genre_title,\n",
    "            }})\n",
    "        else:\n",
    "                        # Insert new document\n",
    "            document = {\n",
    "                        \n",
    "                \"_id\": track_id,\n",
    "                \"features\": features.tolist(),\n",
    "                \"album_title\": album_title,\n",
    "                \"artist_name\": artist_name,\n",
    "                \"track_title\": track_title,\n",
    "                \"genre_title\": genre_title,                    }\n",
    "        collection.insert_one(document)\n",
    "        # Extract track title from audio file\n",
    "        track_title = extract_track_title(audio_path)\n",
    "        \n",
    "        \n",
    "        # Prepare the document\n",
    "        document = {\n",
    "            \"features\": features.tolist(),\n",
    "            \"album_title\": album_title,\n",
    "            \"artist_name\": artist_name,\n",
    "            \"track_title\": track_title,\n",
    "            \"genre_title\": genre_title\n",
    "        }\n",
    "        \n",
    "        if track_id in echonest_data.index:\n",
    "            echonest_entry = echonest_data.loc[track_id].to_dict()\n",
    "            document['echonest'] = echonest_entry\n",
    "            print(f\"Echonest data for track ID {track_id}: {echonest_entry}\")\n",
    "        else:\n",
    "            document['echonest'] = {}\n",
    "            print(f\"No Echonest data for track ID {track_id}\")\n",
    "        \n",
    "        # Insert/update the document in MongoDB\n",
    "        result = collection.update_one({\"_id\": track_id}, {\"$set\": document}, upsert=True)\n",
    "        print(f\"MongoDB update result for track ID {track_id}: {result.modified_count} modified, {result.upserted_id} upserted\")\n",
    "        \n",
    "    except Exception as e:\n",
    "        print(f\"Error processing {audio_path}: {e}\")\n",
    "\n",
    "\n",
    "# Main script execution\n",
    "if __name__ == '__main__':\n",
    "    total_files_to_process = 100  # Set limit for processed files\n",
    "    extract_metadata_and_features(extracted_data_folder, total_files_to_process)\n",
    "    print(\"Feature extraction and loading into MongoDB completed.\")"
   ]
  },
  {
   "cell_type": "code",
   "execution_count": 84,
   "id": "0a44d230-b9dc-46f6-834c-8c8099ac62e7",
   "metadata": {},
   "outputs": [
    {
     "name": "stdout",
     "output_type": "stream",
     "text": [
      "Similar Songs IDs: [26016, 82782, 14377, 56510, 694, 22511, 75377, 101412, 11884, 23319]\n"
     ]
    }
   ],
   "source": [
    "import torch\n",
    "import pymongo\n",
    "from sklearn.preprocessing import StandardScaler\n",
    "import numpy as np\n",
    "\n",
    "# Connect to MongoDB\n",
    "client = pymongo.MongoClient(\"mongodb://localhost:27017/\")\n",
    "db = client[\"music_recommendation_50\"]\n",
    "tracks = db[\"tracks\"]\n",
    "\n",
    "# Load data\n",
    "data = []\n",
    "track_ids = []\n",
    "for track in tracks.find():\n",
    "    try:\n",
    "        features = [\n",
    "            track[\"acousticness\"],\n",
    "            track[\"danceability\"],\n",
    "            track[\"energy\"],\n",
    "            track[\"instrumentalness\"],\n",
    "            track[\"liveness\"],\n",
    "            track[\"speechiness\"],\n",
    "            track[\"tempo\"],\n",
    "            track[\"valence\"]\n",
    "        ]\n",
    "        data.append(features)\n",
    "        track_ids.append(track[\"_id\"])\n",
    "    except KeyError as e:\n",
    "        print(f\"Missing value for {e} in track {track['_id']}\")\n",
    "\n",
    "# Convert data to PyTorch tensor\n",
    "data_np = np.array(data, dtype=np.float32)\n",
    "scaler = StandardScaler()\n",
    "data_scaled = scaler.fit_transform(data_np)\n",
    "data_tensor = torch.tensor(data_scaled)\n",
    "\n",
    "# Function to find most similar songs\n",
    "def find_similar_songs(song_id, data_tensor, track_ids, k=10):\n",
    "    song_idx = track_ids.index(song_id)\n",
    "    song_features = data_tensor[song_idx]\n",
    "\n",
    "    # Compute distances to other songs\n",
    "    distances = torch.norm(data_tensor - song_features, dim=1)\n",
    "    nearest_indices = distances.argsort()[:k+1]  # +1 because the closest is the song itself\n",
    "\n",
    "    # Get similar song IDs, excluding the song itself\n",
    "    similar_songs = [track_ids[i] for i in nearest_indices if i != song_idx]\n",
    "    return similar_songs[:k]\n",
    "\n",
    "# Example: Find 10 most similar songs to a specific song ID\n",
    "similar_songs = find_similar_songs(3, data_tensor, track_ids)\n",
    "print(\"Similar Songs IDs:\", similar_songs)\n"
   ]
  },
  {
   "cell_type": "code",
   "execution_count": 85,
   "id": "9c5f3f26-2139-4d58-a023-553208a7b61e",
   "metadata": {},
   "outputs": [
    {
     "name": "stdin",
     "output_type": "stream",
     "text": [
      "Enter the song ID:  56510\n"
     ]
    },
    {
     "name": "stdout",
     "output_type": "stream",
     "text": [
      "Playing. Type 'stop' and press enter to stop.\n"
     ]
    },
    {
     "name": "stdin",
     "output_type": "stream",
     "text": [
      " stop\n"
     ]
    },
    {
     "name": "stdout",
     "output_type": "stream",
     "text": [
      "Playback stopped.\n"
     ]
    }
   ],
   "source": [
    "import os\n",
    "import pygame\n",
    "\n",
    "# Initialize pygame mixer\n",
    "pygame.mixer.init()\n",
    "\n",
    "def play_song(song_id):\n",
    "    # Format the song ID into the required file name format\n",
    "    file_name = f\"{song_id:06d}.mp3\"  # Pad the song ID with zeros\n",
    "    file_path = os.path.join(\"fma_large\", file_name[:3], file_name)  # Construct the path\n",
    "\n",
    "    # Check if the file exists\n",
    "    if not os.path.exists(file_path):\n",
    "        print(\"Audio file does not exist:\", file_path)\n",
    "        return\n",
    "\n",
    "    # Load and play the audio file\n",
    "    pygame.mixer.music.load(file_path)\n",
    "    pygame.mixer.music.play()\n",
    "\n",
    "    # Wait for user command to continue or stop\n",
    "    print(\"Playing. Type 'stop' and press enter to stop.\")\n",
    "    while pygame.mixer.music.get_busy():\n",
    "        command = input()\n",
    "        if command.lower() == 'stop':\n",
    "            pygame.mixer.music.stop()\n",
    "            print(\"Playback stopped.\")\n",
    "            return\n",
    "        pygame.time.Clock().tick(10)\n",
    "\n",
    "# Get song ID from user input\n",
    "song_id = input(\"Enter the song ID: \")\n",
    "if song_id.isdigit():\n",
    "    play_song(int(song_id))\n",
    "else:\n",
    "    print(\"Invalid input. Please enter a numeric song ID.\")\n"
   ]
  },
  {
   "cell_type": "code",
   "execution_count": null,
   "id": "d78361c2-c9c1-45b8-9381-ae8bd5ac8ae7",
   "metadata": {},
   "outputs": [],
   "source": []
  }
 ],
 "metadata": {
  "kernelspec": {
   "display_name": "Python 3 (ipykernel)",
   "language": "python",
   "name": "python3"
  },
  "language_info": {
   "codemirror_mode": {
    "name": "ipython",
    "version": 3
   },
   "file_extension": ".py",
   "mimetype": "text/x-python",
   "name": "python",
   "nbconvert_exporter": "python",
   "pygments_lexer": "ipython3",
   "version": "3.10.12"
  }
 },
 "nbformat": 4,
 "nbformat_minor": 5
}
